{
 "cells": [
  {
   "cell_type": "code",
   "execution_count": 5,
   "metadata": {
    "collapsed": true
   },
   "outputs": [],
   "source": [
    "# load packages\n",
    "import xgboost as xgb\n",
    "from sklearn.metrics import mean_squared_error\n",
    "from sklearn.model_selection import RandomizedSearchCV, GridSearchCV\n",
    "import pandas as pd\n",
    "import numpy as np\n",
    "from sklearn.datasets import load_boston\n",
    "import matplotlib.pyplot as plt\n",
    "from xgboost.sklearn import XGBRegressor"
   ]
  },
  {
   "cell_type": "markdown",
   "source": [
    "## Load Data"
   ],
   "metadata": {
    "collapsed": false,
    "pycharm": {
     "name": "#%% md\n"
    }
   }
  },
  {
   "cell_type": "code",
   "execution_count": 6,
   "outputs": [],
   "source": [
    "# load data\n",
    "df_energy_weather_proc = pd.read_csv('input data/energy_weather_table_proc.csv',\n",
    "                                     parse_dates=['dt_iso'])\n",
    "\n",
    "df_energy_weather_proc['dt_iso'] = pd.to_datetime(df_energy_weather_proc['dt_iso'], utc=True, infer_datetime_format=True)\n",
    "df_energy_weather = df_energy_weather_proc.set_index('dt_iso')\n",
    "\n",
    "df_energy_weather_proc = df_energy_weather.select_dtypes(exclude=['object'])\n"
   ],
   "metadata": {
    "collapsed": false,
    "pycharm": {
     "name": "#%%\n"
    }
   }
  },
  {
   "cell_type": "markdown",
   "source": [
    "## XGBoost Hyperparameter tuning"
   ],
   "metadata": {
    "collapsed": false
   }
  },
  {
   "cell_type": "markdown",
   "source": [
    "### Define the Grid Search function"
   ],
   "metadata": {
    "collapsed": false,
    "pycharm": {
     "name": "#%% md\n"
    }
   }
  },
  {
   "cell_type": "code",
   "execution_count": 7,
   "outputs": [],
   "source": [
    "# grid search function\n",
    "def grid_search(actual_column, model_name):\n",
    "    # prepare datasets\n",
    "    X = df_energy_weather_proc.drop(columns=[actual_column])\n",
    "    y = df_energy_weather_proc[actual_column]\n",
    "\n",
    "    # prepare train and test data\n",
    "    # this will be used for the rmse computation\n",
    "    data_train = df_energy_weather_proc[df_energy_weather_proc.year != 2018.0]\n",
    "    X_train = data_train.drop(columns=[actual_column])\n",
    "    y_train = data_train[actual_column]\n",
    "\n",
    "    data_test = df_energy_weather_proc[df_energy_weather_proc.year == 2018.0]\n",
    "    X_test = data_test.drop(columns=[actual_column])\n",
    "    y_test = data_test[actual_column]\n",
    "\n",
    "    # perform the grid search!\n",
    "    xgb1 = XGBRegressor()\n",
    "    parameters = {'nthread':[4], #when use hyperthread, xgboost may become slower\n",
    "                  'objective':['reg:linear'],\n",
    "                  'learning_rate': [.03, 0.05, .07], #so called `eta` value\n",
    "                  'max_depth': [5, 6, 7],\n",
    "                  'min_child_weight': [4],\n",
    "                  'silent': [1],\n",
    "                  'subsample': [0.7],\n",
    "                  'colsample_bytree': [0.7],\n",
    "                  'n_estimators': [500]}\n",
    "\n",
    "    # dummy parameters to simplify testing\n",
    "    # parameters = {'nthread':[4], #when use hyperthread, xgboost may become slower\n",
    "    #               'objective':['reg:linear'],\n",
    "    #               'learning_rate': [.07], #so called `eta` value\n",
    "    #               'max_depth': [3],\n",
    "    #               'min_child_weight': [4],\n",
    "    #               'silent': [1],\n",
    "    #               'subsample': [0.7],\n",
    "    #               'colsample_bytree': [0.7],\n",
    "    #               'n_estimators': [10]}\n",
    "\n",
    "    xgb_grid = GridSearchCV(xgb1,\n",
    "                            parameters,\n",
    "                            cv = 2,\n",
    "                            n_jobs = 5,\n",
    "                            verbose=True)\n",
    "\n",
    "    xgb_grid.fit(X, y)\n",
    "\n",
    "    xgb_best_params = xgb_grid.best_params_\n",
    "\n",
    "    # measure the RMSE for the model using the best parameters\n",
    "    xg_reg = xgb.XGBRegressor(objective='reg:linear', colsample_bytree=xgb_best_params['colsample_bytree'],\n",
    "                              learning_rate=xgb_best_params['learning_rate'], max_depth=xgb_best_params['max_depth'],\n",
    "                              min_child_weight=xgb_best_params['min_child_weight'], alpha=10,\n",
    "                              n_estimators=xgb_best_params['n_estimators'], subsample=xgb_best_params['subsample'])\n",
    "\n",
    "    xg_reg.fit(X_train,y_train)\n",
    "\n",
    "    preds = xg_reg.predict(X_test)\n",
    "\n",
    "    rmse = np.sqrt(mean_squared_error(y_test, preds))\n",
    "\n",
    "    print(\"===================================\")\n",
    "    print(model_name + \"_grid.best_score_: {}\".format(xgb_grid.best_score_))\n",
    "    print(model_name + \"_grid: {}\".format(xgb_grid.best_params_))\n",
    "    print(model_name + \" RMSE: %f\" % (rmse))\n",
    "    print(\"===================================\")\n",
    "\n",
    "    return None"
   ],
   "metadata": {
    "collapsed": false,
    "pycharm": {
     "name": "#%%\n"
    }
   }
  },
  {
   "cell_type": "markdown",
   "source": [
    "### Run the grid search for hyperparameter tuning"
   ],
   "metadata": {
    "collapsed": false,
    "pycharm": {
     "name": "#%% md\n"
    }
   }
  },
  {
   "cell_type": "code",
   "execution_count": 8,
   "outputs": [
    {
     "name": "stdout",
     "output_type": "stream",
     "text": [
      "Fitting 2 folds for each of 9 candidates, totalling 18 fits\n",
      "[02:00:48] WARNING: C:/Users/Administrator/workspace/xgboost-win64_release_1.4.0/src/objective/regression_obj.cu:171: reg:linear is now deprecated in favor of reg:squarederror.\n",
      "[02:00:48] WARNING: C:/Users/Administrator/workspace/xgboost-win64_release_1.4.0/src/learner.cc:573: \n",
      "Parameters: { \"silent\" } might not be used.\n",
      "\n",
      "  This may not be accurate due to some parameters are only used in language bindings but\n",
      "  passed down to XGBoost core.  Or some parameters are not used but slip through this\n",
      "  verification. Please open an issue if you find above cases.\n",
      "\n",
      "\n",
      "[02:01:24] WARNING: C:/Users/Administrator/workspace/xgboost-win64_release_1.4.0/src/objective/regression_obj.cu:171: reg:linear is now deprecated in favor of reg:squarederror.\n",
      "===================================\n",
      "xgb_price_grid.best_score_: 0.9463222875921785\n",
      "xgb_price_grid: {'colsample_bytree': 0.7, 'learning_rate': 0.07, 'max_depth': 7, 'min_child_weight': 4, 'n_estimators': 500, 'nthread': 4, 'objective': 'reg:linear', 'silent': 1, 'subsample': 0.7}\n",
      "xgb_price RMSE: 11.744174\n",
      "===================================\n",
      "Fitting 2 folds for each of 9 candidates, totalling 18 fits\n",
      "[02:05:19] WARNING: C:/Users/Administrator/workspace/xgboost-win64_release_1.4.0/src/objective/regression_obj.cu:171: reg:linear is now deprecated in favor of reg:squarederror.\n",
      "[02:05:19] WARNING: C:/Users/Administrator/workspace/xgboost-win64_release_1.4.0/src/learner.cc:573: \n",
      "Parameters: { \"silent\" } might not be used.\n",
      "\n",
      "  This may not be accurate due to some parameters are only used in language bindings but\n",
      "  passed down to XGBoost core.  Or some parameters are not used but slip through this\n",
      "  verification. Please open an issue if you find above cases.\n",
      "\n",
      "\n",
      "[02:05:53] WARNING: C:/Users/Administrator/workspace/xgboost-win64_release_1.4.0/src/objective/regression_obj.cu:171: reg:linear is now deprecated in favor of reg:squarederror.\n",
      "===================================\n",
      "xgb_load_grid.best_score_: 0.9779974656293231\n",
      "xgb_load_grid: {'colsample_bytree': 0.7, 'learning_rate': 0.07, 'max_depth': 7, 'min_child_weight': 4, 'n_estimators': 500, 'nthread': 4, 'objective': 'reg:linear', 'silent': 1, 'subsample': 0.7}\n",
      "xgb_load RMSE: 1277.343387\n",
      "===================================\n",
      "Fitting 2 folds for each of 9 candidates, totalling 18 fits\n",
      "[02:10:18] WARNING: C:/Users/Administrator/workspace/xgboost-win64_release_1.4.0/src/objective/regression_obj.cu:171: reg:linear is now deprecated in favor of reg:squarederror.\n",
      "[02:10:18] WARNING: C:/Users/Administrator/workspace/xgboost-win64_release_1.4.0/src/learner.cc:573: \n",
      "Parameters: { \"silent\" } might not be used.\n",
      "\n",
      "  This may not be accurate due to some parameters are only used in language bindings but\n",
      "  passed down to XGBoost core.  Or some parameters are not used but slip through this\n",
      "  verification. Please open an issue if you find above cases.\n",
      "\n",
      "\n",
      "[02:10:50] WARNING: C:/Users/Administrator/workspace/xgboost-win64_release_1.4.0/src/objective/regression_obj.cu:171: reg:linear is now deprecated in favor of reg:squarederror.\n",
      "===================================\n",
      "xgb_solar_grid.best_score_: 0.9781023389228827\n",
      "xgb_solar_grid: {'colsample_bytree': 0.7, 'learning_rate': 0.07, 'max_depth': 6, 'min_child_weight': 4, 'n_estimators': 500, 'nthread': 4, 'objective': 'reg:linear', 'silent': 1, 'subsample': 0.7}\n",
      "xgb_solar RMSE: 417.392692\n",
      "===================================\n",
      "Fitting 2 folds for each of 9 candidates, totalling 18 fits\n",
      "[02:15:08] WARNING: C:/Users/Administrator/workspace/xgboost-win64_release_1.4.0/src/objective/regression_obj.cu:171: reg:linear is now deprecated in favor of reg:squarederror.\n",
      "[02:15:08] WARNING: C:/Users/Administrator/workspace/xgboost-win64_release_1.4.0/src/learner.cc:573: \n",
      "Parameters: { \"silent\" } might not be used.\n",
      "\n",
      "  This may not be accurate due to some parameters are only used in language bindings but\n",
      "  passed down to XGBoost core.  Or some parameters are not used but slip through this\n",
      "  verification. Please open an issue if you find above cases.\n",
      "\n",
      "\n",
      "[02:15:34] WARNING: C:/Users/Administrator/workspace/xgboost-win64_release_1.4.0/src/objective/regression_obj.cu:171: reg:linear is now deprecated in favor of reg:squarederror.\n",
      "===================================\n",
      "xgb_wind_grid.best_score_: 0.9958199027252287\n",
      "xgb_wind_grid: {'colsample_bytree': 0.7, 'learning_rate': 0.07, 'max_depth': 5, 'min_child_weight': 4, 'n_estimators': 500, 'nthread': 4, 'objective': 'reg:linear', 'silent': 1, 'subsample': 0.7}\n",
      "xgb_wind RMSE: 470.811416\n",
      "===================================\n"
     ]
    },
    {
     "name": "stderr",
     "output_type": "stream",
     "text": [
      "[Parallel(n_jobs=5)]: Using backend LokyBackend with 5 concurrent workers.\n",
      "[Parallel(n_jobs=5)]: Done  18 out of  18 | elapsed:  3.0min finished\n",
      "C:\\Users\\jeanc\\anaconda3\\lib\\site-packages\\xgboost\\data.py:112: UserWarning: Use subset (sliced data) of np.ndarray is not recommended because it will generate extra copies and increase memory consumption\n",
      "  warnings.warn(\n",
      "[Parallel(n_jobs=5)]: Using backend LokyBackend with 5 concurrent workers.\n",
      "[Parallel(n_jobs=5)]: Done  18 out of  18 | elapsed:  3.6min finished\n",
      "C:\\Users\\jeanc\\anaconda3\\lib\\site-packages\\xgboost\\data.py:112: UserWarning: Use subset (sliced data) of np.ndarray is not recommended because it will generate extra copies and increase memory consumption\n",
      "  warnings.warn(\n",
      "[Parallel(n_jobs=5)]: Using backend LokyBackend with 5 concurrent workers.\n",
      "[Parallel(n_jobs=5)]: Done  18 out of  18 | elapsed:  4.1min finished\n",
      "C:\\Users\\jeanc\\anaconda3\\lib\\site-packages\\xgboost\\data.py:112: UserWarning: Use subset (sliced data) of np.ndarray is not recommended because it will generate extra copies and increase memory consumption\n",
      "  warnings.warn(\n",
      "[Parallel(n_jobs=5)]: Using backend LokyBackend with 5 concurrent workers.\n",
      "[Parallel(n_jobs=5)]: Done  18 out of  18 | elapsed:  4.0min finished\n",
      "C:\\Users\\jeanc\\anaconda3\\lib\\site-packages\\xgboost\\data.py:112: UserWarning: Use subset (sliced data) of np.ndarray is not recommended because it will generate extra copies and increase memory consumption\n",
      "  warnings.warn(\n"
     ]
    }
   ],
   "source": [
    "# call the function to do the grid search per target value\n",
    "grid_search('price_actual', 'xgb_price')\n",
    "# xgb_price_grid: {'colsample_bytree': 0.7, 'learning_rate': 0.07, 'max_depth': 7,\n",
    "# 'min_child_weight': 4, 'n_estimators': 500, 'nthread': 4, 'objective': 'reg:linear', 'silent': 1, 'subsample': 0.7}\n",
    "\n",
    "grid_search('total_load_actual', 'xgb_load')\n",
    "# xgb_load_grid: {'colsample_bytree': 0.7, 'learning_rate': 0.07, 'max_depth': 7,\n",
    "# 'min_child_weight': 4, 'n_estimators': 500, 'nthread': 4, 'objective': 'reg:linear', 'silent': 1, 'subsample': 0.7}\n",
    "\n",
    "grid_search('gen_solar_totals', 'xgb_solar')\n",
    "# xgb_solar_grid: {'colsample_bytree': 0.7, 'learning_rate': 0.07, 'max_depth': 6,\n",
    "# 'min_child_weight': 4, 'n_estimators': 500, 'nthread': 4, 'objective': 'reg:linear', 'silent': 1, 'subsample': 0.7}\n",
    "\n",
    "grid_search('gen_wind_totals', 'xgb_wind')\n",
    "# xgb_wind_grid: {'colsample_bytree': 0.7, 'learning_rate': 0.07, 'max_depth': 5,\n",
    "# 'min_child_weight': 4, 'n_estimators': 500, 'nthread': 4, 'objective': 'reg:linear', 'silent': 1, 'subsample': 0.7}\n",
    "\n",
    "# we will save these values and used them for our XGB model\n"
   ],
   "metadata": {
    "collapsed": false,
    "pycharm": {
     "name": "#%%\n"
    }
   }
  }
 ],
 "metadata": {
  "kernelspec": {
   "name": "base",
   "language": "python",
   "display_name": "Python (base)"
  },
  "language_info": {
   "codemirror_mode": {
    "name": "ipython",
    "version": 2
   },
   "file_extension": ".py",
   "mimetype": "text/x-python",
   "name": "python",
   "nbconvert_exporter": "python",
   "pygments_lexer": "ipython2",
   "version": "2.7.6"
  }
 },
 "nbformat": 4,
 "nbformat_minor": 0
}