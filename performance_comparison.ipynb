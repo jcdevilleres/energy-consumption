{
 "cells": [
  {
   "cell_type": "code",
   "execution_count": 18,
   "outputs": [],
   "source": [
    "# load packages\n",
    "import pandas as pd\n",
    "import numpy as np\n",
    "import xgboost as xgb\n",
    "import json\n",
    "from sklearn.metrics import mean_squared_error\n",
    "import matplotlib.pyplot as plt"
   ],
   "metadata": {
    "collapsed": false,
    "pycharm": {
     "name": "#%%\n"
    }
   }
  },
  {
   "cell_type": "markdown",
   "source": [
    "## Load Data"
   ],
   "metadata": {
    "collapsed": false,
    "pycharm": {
     "name": "#%% md\n"
    }
   }
  },
  {
   "cell_type": "code",
   "execution_count": 19,
   "metadata": {
    "collapsed": true
   },
   "outputs": [],
   "source": [
    "## TODO Load Data for XGB\n",
    "df_energy_weather_table_xgb_preds = pd.read_csv(\n",
    "  \"output data/xgb/energy_weather_table_xgb_preds.csv\",\n",
    ")\n",
    "\n",
    "## TODO Load Data for LSTM\n",
    "df_energy_weather_table_lstm_preds = pd.read_csv(\n",
    "  \"output data/lstm/energy_weather_lstm_preds.csv\",\n",
    ")\n",
    "\n",
    "## TODO Load Data for CNN\n",
    "df_energy_weather_table_cnn_preds = pd.read_csv(\n",
    "  \"output data/cnn/energy_weather_cnn_preds.csv\",\n",
    ")"
   ]
  },
  {
   "cell_type": "markdown",
   "source": [
    "## Compute the RMSE for TSO and Models"
   ],
   "metadata": {
    "collapsed": false,
    "pycharm": {
     "name": "#%% md\n"
    }
   }
  },
  {
   "cell_type": "code",
   "execution_count": 20,
   "outputs": [],
   "source": [
    "def compute_RMSE(df, actual_col, preds_col, model_name):\n",
    "    actual = df[actual_col]\n",
    "    preds = df[preds_col]\n",
    "\n",
    "    rmse = np.sqrt(mean_squared_error(actual, preds))\n",
    "    rmse = np.round(rmse, 4)\n",
    "    # print(model_name + \" RMSE for \" + preds_col)\n",
    "    # print(\" %f \" %(rmse))\n",
    "    # print(model_name + \"RMSE for \" + preds_col + \" is:\" + rmse )\n",
    "    print(\"RMSE for {} on {} is: {}\".format(model_name, preds_col, rmse))\n",
    "\n",
    "    return None"
   ],
   "metadata": {
    "collapsed": false,
    "pycharm": {
     "name": "#%%\n"
    }
   }
  },
  {
   "cell_type": "code",
   "execution_count": 21,
   "outputs": [
    {
     "name": "stdout",
     "output_type": "stream",
     "text": [
      "RMSE for TSO forecast on price_day_ahead is: 11.892\n",
      "RMSE for TSO forecast on total_load_forecast is: 398.5408\n",
      "RMSE for TSO forecast on forecast_solar_day_ahead is: 226.1316\n",
      "RMSE for TSO forecast on forecast_wind_onshore_day_ahead is: 615.0148\n"
     ]
    }
   ],
   "source": [
    "## compute errors for TSO\n",
    "compute_RMSE(df_energy_weather_table_xgb_preds, 'price_actual', 'price_day_ahead',\n",
    "             'TSO forecast')\n",
    "compute_RMSE(df_energy_weather_table_xgb_preds, 'total_load_actual', 'total_load_forecast',\n",
    "             'TSO forecast')\n",
    "compute_RMSE(df_energy_weather_table_xgb_preds, 'gen_solar_totals', 'forecast_solar_day_ahead',\n",
    "             'TSO forecast')\n",
    "compute_RMSE(df_energy_weather_table_xgb_preds, 'gen_wind_totals', 'forecast_wind_onshore_day_ahead',\n",
    "             'TSO forecast')"
   ],
   "metadata": {
    "collapsed": false,
    "pycharm": {
     "name": "#%%\n"
    }
   }
  },
  {
   "cell_type": "code",
   "execution_count": 22,
   "outputs": [
    {
     "name": "stdout",
     "output_type": "stream",
     "text": [
      "RMSE for xgb_model on price_predicted is: 11.7442\n",
      "RMSE for xgb_model on total_load_predicted is: 1277.3434\n",
      "RMSE for xgb_model on gen_solar_totals_predicted is: 417.3927\n",
      "RMSE for xgb_model on gen_wind_totals_predicted is: 470.8114\n"
     ]
    }
   ],
   "source": [
    "## compute errors for XGB\n",
    "compute_RMSE(df_energy_weather_table_xgb_preds, 'price_actual', 'price_predicted',\n",
    "             'xgb_model')\n",
    "compute_RMSE(df_energy_weather_table_xgb_preds, 'total_load_actual', 'total_load_predicted',\n",
    "             'xgb_model')\n",
    "compute_RMSE(df_energy_weather_table_xgb_preds, 'gen_solar_totals', 'gen_solar_totals_predicted',\n",
    "             'xgb_model')\n",
    "compute_RMSE(df_energy_weather_table_xgb_preds, 'gen_wind_totals', 'gen_wind_totals_predicted',\n",
    "             'xgb_model')"
   ],
   "metadata": {
    "collapsed": false,
    "pycharm": {
     "name": "#%%\n"
    }
   }
  },
  {
   "cell_type": "code",
   "execution_count": 23,
   "outputs": [
    {
     "name": "stdout",
     "output_type": "stream",
     "text": [
      "RMSE for lstm_model on price_predicted is: 3.4614\n",
      "RMSE for lstm_model on total_load_predicted is: 786.7872\n",
      "RMSE for lstm_model on gen_solar_totals_predicted is: 207.7768\n",
      "RMSE for lstm_model on gen_wind_totals_predicted is: 842.2002\n"
     ]
    }
   ],
   "source": [
    "## compute errors for LSTM\n",
    "compute_RMSE(df_energy_weather_table_lstm_preds, 'price_actual', 'price_predicted',\n",
    "             'lstm_model')\n",
    "compute_RMSE(df_energy_weather_table_lstm_preds, 'total_load_actual', 'total_load_predicted',\n",
    "             'lstm_model')\n",
    "compute_RMSE(df_energy_weather_table_lstm_preds, 'gen_solar_totals', 'gen_solar_totals_predicted',\n",
    "             'lstm_model')\n",
    "compute_RMSE(df_energy_weather_table_lstm_preds, 'gen_wind_totals', 'gen_wind_totals_predicted',\n",
    "             'lstm_model')"
   ],
   "metadata": {
    "collapsed": false,
    "pycharm": {
     "name": "#%%\n"
    }
   }
  },
  {
   "cell_type": "code",
   "execution_count": 24,
   "outputs": [
    {
     "name": "stdout",
     "output_type": "stream",
     "text": [
      "RMSE for cnn_model on price_predicted is: 12.6914\n",
      "RMSE for cnn_model on total_load_predicted is: 4629.994\n",
      "RMSE for cnn_model on gen_solar_totals_predicted is: 185.9736\n",
      "RMSE for cnn_model on gen_wind_totals_predicted is: 775.8769\n"
     ]
    }
   ],
   "source": [
    "## compute errors for CNN\n",
    "compute_RMSE(df_energy_weather_table_cnn_preds, 'price_actual', 'price_predicted',\n",
    "             'cnn_model')\n",
    "compute_RMSE(df_energy_weather_table_cnn_preds, 'total_load_actual', 'total_load_predicted',\n",
    "             'cnn_model')\n",
    "compute_RMSE(df_energy_weather_table_cnn_preds, 'gen_solar_totals', 'gen_solar_totals_predicted',\n",
    "             'cnn_model')\n",
    "compute_RMSE(df_energy_weather_table_cnn_preds, 'gen_wind_totals', 'gen_wind_totals_predicted',\n",
    "             'cnn_model')"
   ],
   "metadata": {
    "collapsed": false,
    "pycharm": {
     "name": "#%%\n"
    }
   }
  },
  {
   "cell_type": "markdown",
   "source": [
    "## Compute the mean values"
   ],
   "metadata": {
    "collapsed": false,
    "pycharm": {
     "name": "#%% md\n"
    }
   }
  },
  {
   "cell_type": "code",
   "execution_count": 25,
   "outputs": [
    {
     "data": {
      "text/plain": "price_actual            63.444265\ntotal_load_actual    29064.243165\ngen_solar_totals      1372.893443\ngen_wind_totals       5583.780738\ndtype: float64"
     },
     "execution_count": 25,
     "metadata": {},
     "output_type": "execute_result"
    }
   ],
   "source": [
    "# Compute mean for actual values\n",
    "df_energy_weather_table_xgb_preds[['price_actual', 'total_load_actual',\n",
    "                                   'gen_solar_totals', 'gen_wind_totals']].mean(axis=0)"
   ],
   "metadata": {
    "collapsed": false,
    "pycharm": {
     "name": "#%%\n"
    }
   }
  },
  {
   "cell_type": "code",
   "execution_count": 26,
   "outputs": [
    {
     "data": {
      "text/plain": "price_day_ahead                       57.299726\ntotal_load_forecast                29068.770293\nforecast_solar_day_ahead            1395.281311\nforecast_wind_onshore_day_ahead     5605.889942\ndtype: float64"
     },
     "execution_count": 26,
     "metadata": {},
     "output_type": "execute_result"
    }
   ],
   "source": [
    "# Compute mean for TSO\n",
    "df_energy_weather_table_xgb_preds[['price_day_ahead', 'total_load_forecast',\n",
    "                                   'forecast_solar_day_ahead', 'forecast_wind_onshore_day_ahead']].mean(axis=0)"
   ],
   "metadata": {
    "collapsed": false,
    "pycharm": {
     "name": "#%%\n"
    }
   }
  },
  {
   "cell_type": "code",
   "execution_count": 27,
   "outputs": [
    {
     "data": {
      "text/plain": "price_predicted                  57.707054\ntotal_load_predicted          29144.238431\ngen_solar_totals_predicted     1465.716225\ngen_wind_totals_predicted      5471.296743\ndtype: float64"
     },
     "execution_count": 27,
     "metadata": {},
     "output_type": "execute_result"
    }
   ],
   "source": [
    "# Compute mean for XGB\n",
    "df_energy_weather_table_xgb_preds[['price_predicted', 'total_load_predicted',\n",
    "                                   'gen_solar_totals_predicted', 'gen_wind_totals_predicted']].mean(axis=0)"
   ],
   "metadata": {
    "collapsed": false,
    "pycharm": {
     "name": "#%%\n"
    }
   }
  },
  {
   "cell_type": "code",
   "execution_count": 28,
   "outputs": [
    {
     "data": {
      "text/plain": "price_predicted                  61.939747\ntotal_load_predicted          28953.883812\ngen_solar_totals_predicted     1388.830913\ngen_wind_totals_predicted      5366.839481\ndtype: float64"
     },
     "execution_count": 28,
     "metadata": {},
     "output_type": "execute_result"
    }
   ],
   "source": [
    "# Compute mean for LSTM\n",
    "df_energy_weather_table_lstm_preds[['price_predicted', 'total_load_predicted',\n",
    "                                   'gen_solar_totals_predicted', 'gen_wind_totals_predicted']].mean(axis=0)\n"
   ],
   "metadata": {
    "collapsed": false,
    "pycharm": {
     "name": "#%%\n"
    }
   }
  },
  {
   "cell_type": "code",
   "execution_count": 29,
   "outputs": [
    {
     "data": {
      "text/plain": "price_predicted                  59.487694\ntotal_load_predicted          28747.004000\ngen_solar_totals_predicted     1432.920936\ngen_wind_totals_predicted      5339.587412\ndtype: float64"
     },
     "execution_count": 29,
     "metadata": {},
     "output_type": "execute_result"
    }
   ],
   "source": [
    "# Compute mean for CNN\n",
    "df_energy_weather_table_cnn_preds[['price_predicted', 'total_load_predicted',\n",
    "                                   'gen_solar_totals_predicted', 'gen_wind_totals_predicted']].mean(axis=0)"
   ],
   "metadata": {
    "collapsed": false,
    "pycharm": {
     "name": "#%%\n"
    }
   }
  },
  {
   "cell_type": "markdown",
   "source": [
    "## Compute the standard deviation values"
   ],
   "metadata": {
    "collapsed": false
   }
  },
  {
   "cell_type": "code",
   "execution_count": 30,
   "outputs": [
    {
     "data": {
      "text/plain": "price_actual           12.209511\ntotal_load_actual    4626.613440\ngen_solar_totals     1658.118867\ngen_wind_totals      3306.990947\ndtype: float64"
     },
     "execution_count": 30,
     "metadata": {},
     "output_type": "execute_result"
    }
   ],
   "source": [
    "# Compute std for actual values\n",
    "df_energy_weather_table_xgb_preds[['price_actual', 'total_load_actual',\n",
    "                                   'gen_solar_totals', 'gen_wind_totals']].std(axis=0)"
   ],
   "metadata": {
    "collapsed": false,
    "pycharm": {
     "name": "#%%\n"
    }
   }
  },
  {
   "cell_type": "code",
   "execution_count": 31,
   "outputs": [
    {
     "data": {
      "text/plain": "price_day_ahead                      12.789952\ntotal_load_forecast                4629.977402\nforecast_solar_day_ahead           1652.516201\nforecast_wind_onshore_day_ahead    3190.019649\ndtype: float64"
     },
     "execution_count": 31,
     "metadata": {},
     "output_type": "execute_result"
    }
   ],
   "source": [
    "# Compute std for TSO\n",
    "df_energy_weather_table_xgb_preds[['price_day_ahead', 'total_load_forecast',\n",
    "                                   'forecast_solar_day_ahead', 'forecast_wind_onshore_day_ahead']].std(axis=0)"
   ],
   "metadata": {
    "collapsed": false,
    "pycharm": {
     "name": "#%%\n"
    }
   }
  },
  {
   "cell_type": "code",
   "execution_count": 32,
   "outputs": [
    {
     "data": {
      "text/plain": "price_predicted                 10.614346\ntotal_load_predicted          4303.912127\ngen_solar_totals_predicted    1561.916187\ngen_wind_totals_predicted     3061.113174\ndtype: float64"
     },
     "execution_count": 32,
     "metadata": {},
     "output_type": "execute_result"
    }
   ],
   "source": [
    "# Compute std for XGB\n",
    "df_energy_weather_table_xgb_preds[['price_predicted', 'total_load_predicted',\n",
    "                                   'gen_solar_totals_predicted', 'gen_wind_totals_predicted']].std(axis=0)"
   ],
   "metadata": {
    "collapsed": false,
    "pycharm": {
     "name": "#%%\n"
    }
   }
  },
  {
   "cell_type": "code",
   "execution_count": 33,
   "outputs": [
    {
     "data": {
      "text/plain": "price_predicted                 12.418503\ntotal_load_predicted          4349.121770\ngen_solar_totals_predicted    1658.531692\ngen_wind_totals_predicted     2958.454285\ndtype: float64"
     },
     "execution_count": 33,
     "metadata": {},
     "output_type": "execute_result"
    }
   ],
   "source": [
    "# Compute std for LSTM\n",
    "df_energy_weather_table_lstm_preds[['price_predicted', 'total_load_predicted',\n",
    "                                   'gen_solar_totals_predicted', 'gen_wind_totals_predicted']].std(axis=0)"
   ],
   "metadata": {
    "collapsed": false,
    "pycharm": {
     "name": "#%%\n"
    }
   }
  },
  {
   "cell_type": "code",
   "execution_count": 34,
   "outputs": [
    {
     "data": {
      "text/plain": "price_predicted               7.411385e-12\ntotal_load_predicted          2.106510e-09\ngen_solar_totals_predicted    1.673823e+03\ngen_wind_totals_predicted     3.189261e+03\ndtype: float64"
     },
     "execution_count": 34,
     "metadata": {},
     "output_type": "execute_result"
    }
   ],
   "source": [
    "# Compute std for CNN\n",
    "df_energy_weather_table_cnn_preds[['price_predicted', 'total_load_predicted',\n",
    "                                   'gen_solar_totals_predicted', 'gen_wind_totals_predicted']].std(axis=0)"
   ],
   "metadata": {
    "collapsed": false,
    "pycharm": {
     "name": "#%%\n"
    }
   }
  }
 ],
 "metadata": {
  "kernelspec": {
   "name": "base",
   "language": "python",
   "display_name": "Python (base)"
  },
  "language_info": {
   "codemirror_mode": {
    "name": "ipython",
    "version": 2
   },
   "file_extension": ".py",
   "mimetype": "text/x-python",
   "name": "python",
   "nbconvert_exporter": "python",
   "pygments_lexer": "ipython2",
   "version": "2.7.6"
  }
 },
 "nbformat": 4,
 "nbformat_minor": 0
}